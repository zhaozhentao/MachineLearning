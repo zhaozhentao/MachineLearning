{
  "nbformat": 4,
  "nbformat_minor": 0,
  "metadata": {
    "colab": {
      "name": "OpenCVFaceDetect.ipynb",
      "provenance": []
    },
    "kernelspec": {
      "name": "python3",
      "display_name": "Python 3"
    },
    "language_info": {
      "name": "python"
    }
  },
  "cells": [
    {
      "cell_type": "markdown",
      "source": [
        "人脸图片准备"
      ],
      "metadata": {
        "id": "Fd_LzSY1U3_x"
      }
    },
    {
      "cell_type": "code",
      "execution_count": null,
      "metadata": {
        "id": "rM_-tsajP8lp"
      },
      "outputs": [],
      "source": [
        "!wget https://machinelearningmastery.com/wp-content/uploads/2019/03/test1.jpg"
      ]
    },
    {
      "cell_type": "markdown",
      "source": [
        "第二张人脸图片"
      ],
      "metadata": {
        "id": "-hHDstafVEp5"
      }
    },
    {
      "cell_type": "code",
      "source": [
        "!wget https://machinelearningmastery.com/wp-content/uploads/2019/03/test2.jpg"
      ],
      "metadata": {
        "id": "tWNYrriZVKIk"
      },
      "execution_count": null,
      "outputs": []
    },
    {
      "cell_type": "markdown",
      "source": [
        "OpenCV 级联分类器\n",
        "\n",
        "安装opencv python"
      ],
      "metadata": {
        "id": "HWVfXcsfXz0D"
      }
    },
    {
      "cell_type": "code",
      "source": [
        "!sudo pip install opencv-python"
      ],
      "metadata": {
        "id": "b63YHSqVX5Nn"
      },
      "execution_count": null,
      "outputs": []
    },
    {
      "cell_type": "markdown",
      "source": [
        "测试 OpenCV 是否安装成功"
      ],
      "metadata": {
        "id": "26AbrBSCYLVQ"
      }
    },
    {
      "cell_type": "code",
      "source": [
        "# check opencv version\n",
        "import cv2\n",
        "# print version number\n",
        "print(cv2.__version__)"
      ],
      "metadata": {
        "id": "ONI_5gA1YSEo"
      },
      "execution_count": null,
      "outputs": []
    },
    {
      "cell_type": "markdown",
      "source": [
        "下载OpenCV 预先训练好的，正脸识别分类器"
      ],
      "metadata": {
        "id": "kyVQOT55ZIA_"
      }
    },
    {
      "cell_type": "code",
      "source": [
        "!wget https://raw.githubusercontent.com/opencv/opencv/master/data/haarcascades/haarcascade_frontalface_default.xml"
      ],
      "metadata": {
        "id": "Yl-tv270YaUM"
      },
      "execution_count": null,
      "outputs": []
    },
    {
      "cell_type": "markdown",
      "source": [
        "加载分类器"
      ],
      "metadata": {
        "id": "9UU8IXfBZTqK"
      }
    },
    {
      "cell_type": "code",
      "source": [
        "# load the pre-trained model\n",
        "classifier = cv2.CascadeClassifier('haarcascade_frontalface_default.xml')"
      ],
      "metadata": {
        "id": "kRRm8kd1ZOoR"
      },
      "execution_count": 11,
      "outputs": []
    },
    {
      "cell_type": "markdown",
      "source": [
        "定义找出人脸并显示的方法"
      ],
      "metadata": {
        "id": "yeiaBRzEZ9Ea"
      }
    },
    {
      "cell_type": "code",
      "source": [
        "from matplotlib import pyplot as plt\n",
        "\n",
        "def faceDetect(file):\n",
        "  pixels = cv2.imread(file)\n",
        "  bboxes = classifier.detectMultiScale(pixels)\n",
        "  # print bounding box for each detected face \n",
        "  for box in bboxes:\n",
        "    print(box)\n",
        "    x, y, width, height = box\n",
        "    x2, y2 = x + width, y + height\n",
        "\t  # draw a rectangle over the pixels\n",
        "    cv2.rectangle(pixels, (x, y), (x2, y2), (0,0,255), 1)\n",
        "    # show the image\n",
        "  plt.imshow(cv2.cvtColor(pixels, cv2.COLOR_BGR2RGB))\n",
        "  plt.show()"
      ],
      "metadata": {
        "id": "dSpU0GjEdBLY"
      },
      "execution_count": 26,
      "outputs": []
    },
    {
      "cell_type": "markdown",
      "source": [
        "识别第一张人脸图"
      ],
      "metadata": {
        "id": "xxSsQ4GqdlOq"
      }
    },
    {
      "cell_type": "code",
      "source": [
        "faceDetect(\"test1.jpg\")"
      ],
      "metadata": {
        "id": "HiWf2w7GaAbn"
      },
      "execution_count": null,
      "outputs": []
    },
    {
      "cell_type": "markdown",
      "source": [
        "识别第二张人脸图"
      ],
      "metadata": {
        "id": "akHyPHMicOiO"
      }
    },
    {
      "cell_type": "code",
      "source": [
        "faceDetect(\"test2.jpg\")"
      ],
      "metadata": {
        "id": "4LJBbnLycR7V"
      },
      "execution_count": null,
      "outputs": []
    }
  ]
}
