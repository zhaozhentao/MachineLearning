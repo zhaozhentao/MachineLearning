{
  "nbformat": 4,
  "nbformat_minor": 0,
  "metadata": {
    "accelerator": "GPU",
    "colab": {
      "name": "2车牌定位.ipynb",
      "provenance": [],
      "collapsed_sections": []
    },
    "kernelspec": {
      "display_name": "Python 3",
      "name": "python3"
    }
  },
  "cells": [
    {
      "cell_type": "code",
      "metadata": {
        "id": "xz3b7vGaGBmy"
      },
      "source": [
        "!gdown --id '1lfeLzSgj09icKQT9Yrrvl3quFrwTN9bb' --output data.zip\n",
        "!unzip data.zip"
      ],
      "execution_count": null,
      "outputs": []
    },
    {
      "cell_type": "code",
      "metadata": {
        "id": "32ugUfhVGv2y"
      },
      "source": [
        "!pip install git+https://github.com/tensorflow/examples.git"
      ],
      "execution_count": null,
      "outputs": []
    },
    {
      "cell_type": "code",
      "metadata": {
        "id": "GU9LDZ5uF_Fm"
      },
      "source": [
        "import pathlib\n",
        "\n",
        "import numpy as np\n",
        "import matplotlib.pyplot as plt\n",
        "import tensorflow as tf\n",
        "from tensorflow_examples.models.pix2pix import pix2pix\n",
        "\n",
        "\n",
        "def load_and_preprocess_image(path):\n",
        "    img = tf.io.read_file(path + '/img.png')\n",
        "    img = tf.image.decode_jpeg(img, channels=3)\n",
        "    img = tf.image.resize(img, [512, 512])\n",
        "    img /= 255.0\n",
        "\n",
        "    label = tf.io.read_file(path + '/label.png')\n",
        "    label = tf.image.decode_jpeg(label, channels=3)\n",
        "    label = tf.image.resize(label, [512, 512])\n",
        "    # 3 通道降为 1 通道\n",
        "    label = tf.image.rgb_to_grayscale(label)\n",
        "    label /= 38.0\n",
        "\n",
        "    return img, label\n",
        "\n",
        "\n",
        "def unet_model(output_channels):\n",
        "    inputs = tf.keras.layers.Input(shape=[512, 512, 3])\n",
        "    x = inputs\n",
        "\n",
        "    # 在模型中降频取样\n",
        "    skips = down_stack(x)\n",
        "    x = skips[-1]\n",
        "    skips = reversed(skips[:-1])\n",
        "\n",
        "    # 升频取样然后建立跳跃连接\n",
        "    for up, skip in zip(up_stack, skips):\n",
        "        x = up(x)\n",
        "        concat = tf.keras.layers.Concatenate()\n",
        "        x = concat([x, skip])\n",
        "\n",
        "    # 这是模型的最后一层\n",
        "    last = tf.keras.layers.Conv2DTranspose(\n",
        "        output_channels, 3, strides=2,\n",
        "        padding='same')  # 64x64 -> 128x128\n",
        "\n",
        "    x = last(x)\n",
        "\n",
        "    return tf.keras.Model(inputs=inputs, outputs=x)\n",
        "\n",
        "\n",
        "def display(display_list):\n",
        "    plt.figure(figsize=(15, 15))\n",
        "\n",
        "    title = ['Input Image', 'True Mask', 'Predicted Mask']\n",
        "\n",
        "    plt.figure(figsize=(16, 16))\n",
        "    for i in range(len(display_list)):\n",
        "        plt.subplot(1, len(display_list), i + 1)\n",
        "        plt.title(title[i])\n",
        "        plt.imshow(tf.keras.preprocessing.image.array_to_img(display_list[i]))\n",
        "        plt.axis('off')\n",
        "    plt.show()\n",
        "\n",
        "\n",
        "def create_mask(pred_mask):\n",
        "    pred_mask = tf.argmax(pred_mask, axis=-1)\n",
        "    pred_mask = pred_mask[..., tf.newaxis]\n",
        "    return pred_mask[0]\n",
        "\n",
        "\n",
        "def show_predictions(dataset=None, num=2):\n",
        "    if dataset:\n",
        "        for img, mask in dataset.take(num):\n",
        "            pred_mask = model.predict(img)\n",
        "            display([img[0], mask[0], create_mask(pred_mask)])\n",
        "    else:\n",
        "        display([sample_image, sample_mask, create_mask(model.predict(sample_image[tf.newaxis, ...]))])"
      ],
      "execution_count": 1,
      "outputs": []
    },
    {
      "cell_type": "code",
      "metadata": {
        "id": "0tBTH1UMPhF4"
      },
      "source": [
        "batch_size = 32\n",
        "output_channels = 3\n",
        "all_image_paths = [str(path) for path in pathlib.Path('./data').glob('*/*')]\n",
        "image_count = len(all_image_paths)\n",
        "steps_per_epoch = tf.math.ceil(image_count / batch_size).numpy()"
      ],
      "execution_count": 2,
      "outputs": []
    },
    {
      "cell_type": "code",
      "metadata": {
        "id": "tr2hqj5lPrWe"
      },
      "source": [
        "np.random.shuffle(all_image_paths)\n",
        "\n",
        "valid_count = int((tf.math.floor(image_count / 10)).numpy())\n",
        "\n",
        "valid_image_path = all_image_paths[0 : valid_count]\n",
        "\n",
        "train_image_path = all_image_paths[valid_count : ]"
      ],
      "execution_count": 3,
      "outputs": []
    },
    {
      "cell_type": "code",
      "metadata": {
        "id": "dSjVtm0Ayz1D"
      },
      "source": [
        "image_ds = (\n",
        "    tf.data.Dataset.from_tensor_slices(train_image_path)\n",
        "        .map(load_and_preprocess_image, num_parallel_calls=tf.data.experimental.AUTOTUNE)\n",
        ")\n",
        "\n",
        "train_dataset = (\n",
        "    image_ds.cache()\n",
        "        .shuffle(image_count)\n",
        "        .repeat()\n",
        "        .batch(batch_size)\n",
        "        .prefetch(buffer_size=tf.data.experimental.AUTOTUNE)\n",
        ")\n",
        "\n",
        "for image, mask in image_ds.take(2):\n",
        "    sample_image, sample_mask = image, mask\n",
        "\n",
        "display([sample_image, sample_mask])\n",
        "\n",
        "base_model = tf.keras.applications.MobileNetV2(input_shape=[512, 512, 3], include_top=False)\n",
        "\n",
        "# 使用这些层的激活设置\n",
        "layer_names = [\n",
        "    'block_1_expand_relu',  # 64x64\n",
        "    'block_3_expand_relu',  # 32x32\n",
        "    'block_6_expand_relu',  # 16x16\n",
        "    'block_13_expand_relu',  # 8x8\n",
        "    'block_16_project',  # 4x4\n",
        "]\n",
        "layers = [base_model.get_layer(name).output for name in layer_names]\n",
        "\n",
        "# 创建特征提取模型\n",
        "down_stack = tf.keras.Model(inputs=base_model.input, outputs=layers)\n",
        "\n",
        "down_stack.trainable = False\n",
        "\n",
        "up_stack = [\n",
        "    pix2pix.upsample(512, 3),  # 4x4 -> 8x8\n",
        "    pix2pix.upsample(256, 3),  # 8x8 -> 16x16\n",
        "    pix2pix.upsample(128, 3),  # 16x16 -> 32x32\n",
        "    pix2pix.upsample(64, 3),  # 32x32 -> 64x64\n",
        "]\n",
        "\n",
        "model = unet_model(output_channels)\n",
        "\n",
        "model.compile(\n",
        "    optimizer='adam',\n",
        "    loss=tf.keras.losses.SparseCategoricalCrossentropy(from_logits=True),\n",
        "    metrics=['accuracy']\n",
        ")"
      ],
      "execution_count": null,
      "outputs": []
    },
    {
      "cell_type": "code",
      "metadata": {
        "id": "aYdkvM6ZnFUN"
      },
      "source": [
        "tf.keras.utils.plot_model(model, show_shapes=True)"
      ],
      "execution_count": null,
      "outputs": []
    },
    {
      "cell_type": "code",
      "metadata": {
        "id": "R4wAvaSo_0xJ"
      },
      "source": [
        "show_predictions()\n",
        "\n",
        "model_history = model.fit(train_dataset, epochs=30, steps_per_epoch=steps_per_epoch)\n",
        "\n",
        "show_predictions(train_dataset)"
      ],
      "execution_count": null,
      "outputs": []
    },
    {
      "cell_type": "code",
      "metadata": {
        "id": "mVkoqAtdWtKs"
      },
      "source": [
        "valid_ds = (\n",
        "  tf.data.Dataset.from_tensor_slices(valid_image_path)\n",
        "    .map(load_and_preprocess_image, tf.data.experimental.AUTOTUNE)\n",
        "    .cache()\n",
        "    .batch(100)\n",
        "    .prefetch(buffer_size=tf.data.experimental.AUTOTUNE)    \n",
        ")\n",
        "\n",
        "model.evaluate(valid_ds, verbose=2)"
      ],
      "execution_count": null,
      "outputs": []
    },
    {
      "cell_type": "code",
      "metadata": {
        "id": "FVd2jlYJYz2i"
      },
      "source": [
        "show_predictions(valid_ds, 1)"
      ],
      "execution_count": null,
      "outputs": []
    }
  ]
}