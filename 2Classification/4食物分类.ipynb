{
  "nbformat": 4,
  "nbformat_minor": 0,
  "metadata": {
    "colab": {
      "name": "hw3CNN.ipynb",
      "provenance": []
    },
    "kernelspec": {
      "name": "python3",
      "display_name": "Python 3"
    }
  },
  "cells": [
    {
      "cell_type": "code",
      "metadata": {
        "id": "fGG2qA-oI7P9"
      },
      "source": [
        "!gdown --id '12BvZXPcE_3H2-HxTQk8EIec1h7D6UIVw' --output food-11.zip # 下載資料集\n",
        "!unzip food-11.zip # 解壓縮"
      ],
      "execution_count": null,
      "outputs": []
    },
    {
      "cell_type": "code",
      "metadata": {
        "id": "bozyYzxFJTF4"
      },
      "source": [
        "import os\n",
        "import cv2\n",
        "import numpy as np\n",
        "import tensorflow as tf\n",
        "\n",
        "def readfile(path, label):\n",
        "    # label 是一個 boolean variable，代表需不需要回傳 y 值\n",
        "    image_dir = sorted(os.listdir(path))\n",
        "    x = np.zeros((len(image_dir), 128, 128, 3), dtype=np.uint8)\n",
        "    y = np.zeros((len(image_dir)), dtype=np.uint8)\n",
        "    for i, file in enumerate(image_dir):\n",
        "        img = cv2.imread(os.path.join(path, file))\n",
        "        x[i, :, :] = cv2.resize(img, (128, 128))\n",
        "        if label:\n",
        "            y[i] = int(file.split(\"_\")[0])\n",
        "    if label:\n",
        "        return x, y\n",
        "    else:\n",
        "        return x\n"
      ],
      "execution_count": 2,
      "outputs": []
    },
    {
      "cell_type": "code",
      "metadata": {
        "colab": {
          "base_uri": "https://localhost:8080/"
        },
        "id": "8C2yGWQeJY28",
        "outputId": "ee18d77e-55be-4567-dd0b-5757c3ff997f"
      },
      "source": [
        "# 分別將 training set、validation set、testing set 用 readfile 函式讀進來\n",
        "workspace_dir = './food-11'\n",
        "print(\"Reading data\")\n",
        "train_x, train_y = readfile(os.path.join(workspace_dir, \"training\"), True)\n",
        "print(\"Size of training data = {}\".format(len(train_x)))\n",
        "val_x, val_y = readfile(os.path.join(workspace_dir, \"validation\"), True)\n",
        "print(\"Size of validation data = {}\".format(len(val_x)))\n",
        "test_x = readfile(os.path.join(workspace_dir, \"testing\"), False)\n",
        "print(\"Size of Testing data = {}\".format(len(test_x)))\n",
        "\n",
        "train_x = train_x / 255.0\n",
        "val_x = val_x / 255.0\n",
        "test_x = test_x / 255.0"
      ],
      "execution_count": 3,
      "outputs": [
        {
          "output_type": "stream",
          "text": [
            "Reading data\n",
            "Size of training data = 9866\n",
            "Size of validation data = 3430\n",
            "Size of Testing data = 3347\n"
          ],
          "name": "stdout"
        }
      ]
    },
    {
      "cell_type": "code",
      "metadata": {
        "colab": {
          "base_uri": "https://localhost:8080/"
        },
        "id": "S1fz10XlJe92",
        "outputId": "216f3796-0d88-44ff-bcdb-80439c7aa44a"
      },
      "source": [
        "model = tf.keras.Sequential([\n",
        "    tf.keras.layers.Convolution2D(25, 3, 3, input_shape=train_x[0].shape),\n",
        "    tf.keras.layers.MaxPooling2D(2, 2),\n",
        "    tf.keras.layers.Convolution2D(50, 3, 3),\n",
        "    tf.keras.layers.MaxPooling2D(2, 2),\n",
        "    tf.keras.layers.Flatten(),\n",
        "    tf.keras.layers.Dense(100, activation='relu'),\n",
        "    tf.keras.layers.Dense(11, activation='softmax'),\n",
        "])\n",
        "\n",
        "model.compile(\n",
        "    optimizer='adam',\n",
        "    loss='sparse_categorical_crossentropy',\n",
        "    metrics=['accuracy']\n",
        ")\n",
        "\n",
        "model.fit(train_x, train_y, epochs=30)\n",
        "\n",
        "model.evaluate(val_x, val_y, verbose=2)"
      ],
      "execution_count": 4,
      "outputs": [
        {
          "output_type": "stream",
          "text": [
            "Epoch 1/30\n",
            "309/309 [==============================] - 12s 35ms/step - loss: 2.2098 - accuracy: 0.2054\n",
            "Epoch 2/30\n",
            "309/309 [==============================] - 11s 35ms/step - loss: 1.8549 - accuracy: 0.3580\n",
            "Epoch 3/30\n",
            "309/309 [==============================] - 11s 35ms/step - loss: 1.6749 - accuracy: 0.4120\n",
            "Epoch 4/30\n",
            "309/309 [==============================] - 11s 36ms/step - loss: 1.5594 - accuracy: 0.4595\n",
            "Epoch 5/30\n",
            "309/309 [==============================] - 11s 36ms/step - loss: 1.4853 - accuracy: 0.4912\n",
            "Epoch 6/30\n",
            "309/309 [==============================] - 11s 35ms/step - loss: 1.3791 - accuracy: 0.5227\n",
            "Epoch 7/30\n",
            "309/309 [==============================] - 11s 35ms/step - loss: 1.2813 - accuracy: 0.5592\n",
            "Epoch 8/30\n",
            "309/309 [==============================] - 11s 36ms/step - loss: 1.2230 - accuracy: 0.5776\n",
            "Epoch 9/30\n",
            "309/309 [==============================] - 11s 35ms/step - loss: 1.1340 - accuracy: 0.6118\n",
            "Epoch 10/30\n",
            "309/309 [==============================] - 11s 36ms/step - loss: 1.0640 - accuracy: 0.6363\n",
            "Epoch 11/30\n",
            "309/309 [==============================] - 11s 35ms/step - loss: 0.9838 - accuracy: 0.6628\n",
            "Epoch 12/30\n",
            "309/309 [==============================] - 11s 35ms/step - loss: 0.8949 - accuracy: 0.7002\n",
            "Epoch 13/30\n",
            "309/309 [==============================] - 11s 35ms/step - loss: 0.8143 - accuracy: 0.7289\n",
            "Epoch 14/30\n",
            "309/309 [==============================] - 11s 36ms/step - loss: 0.7705 - accuracy: 0.7435\n",
            "Epoch 15/30\n",
            "309/309 [==============================] - 11s 36ms/step - loss: 0.7184 - accuracy: 0.7579\n",
            "Epoch 16/30\n",
            "309/309 [==============================] - 11s 36ms/step - loss: 0.6358 - accuracy: 0.7884\n",
            "Epoch 17/30\n",
            "309/309 [==============================] - 11s 35ms/step - loss: 0.5574 - accuracy: 0.8168\n",
            "Epoch 18/30\n",
            "309/309 [==============================] - 11s 35ms/step - loss: 0.5469 - accuracy: 0.8187\n",
            "Epoch 19/30\n",
            "309/309 [==============================] - 11s 35ms/step - loss: 0.4563 - accuracy: 0.8576\n",
            "Epoch 20/30\n",
            "309/309 [==============================] - 11s 35ms/step - loss: 0.4189 - accuracy: 0.8630\n",
            "Epoch 21/30\n",
            "309/309 [==============================] - 11s 36ms/step - loss: 0.3637 - accuracy: 0.8854\n",
            "Epoch 22/30\n",
            "309/309 [==============================] - 11s 37ms/step - loss: 0.3247 - accuracy: 0.9015\n",
            "Epoch 23/30\n",
            "309/309 [==============================] - 11s 35ms/step - loss: 0.2712 - accuracy: 0.9206\n",
            "Epoch 24/30\n",
            "309/309 [==============================] - 11s 36ms/step - loss: 0.2296 - accuracy: 0.9351\n",
            "Epoch 25/30\n",
            "309/309 [==============================] - 11s 35ms/step - loss: 0.2204 - accuracy: 0.9336\n",
            "Epoch 26/30\n",
            "309/309 [==============================] - 11s 35ms/step - loss: 0.1921 - accuracy: 0.9464\n",
            "Epoch 27/30\n",
            "309/309 [==============================] - 11s 36ms/step - loss: 0.1686 - accuracy: 0.9528\n",
            "Epoch 28/30\n",
            "309/309 [==============================] - 11s 35ms/step - loss: 0.1242 - accuracy: 0.9679\n",
            "Epoch 29/30\n",
            "309/309 [==============================] - 11s 35ms/step - loss: 0.1237 - accuracy: 0.9685\n",
            "Epoch 30/30\n",
            "309/309 [==============================] - 11s 35ms/step - loss: 0.1166 - accuracy: 0.9675\n",
            "108/108 - 2s - loss: 3.8977 - accuracy: 0.4429\n"
          ],
          "name": "stdout"
        },
        {
          "output_type": "execute_result",
          "data": {
            "text/plain": [
              "[3.8976540565490723, 0.44285714626312256]"
            ]
          },
          "metadata": {
            "tags": []
          },
          "execution_count": 4
        }
      ]
    }
  ]
}