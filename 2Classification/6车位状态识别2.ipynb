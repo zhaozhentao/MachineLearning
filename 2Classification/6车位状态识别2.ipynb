{
  "nbformat": 4,
  "nbformat_minor": 0,
  "metadata": {
    "accelerator": "GPU",
    "colab": {
      "name": "车位状态识别2.ipynb",
      "provenance": [],
      "collapsed_sections": []
    },
    "kernelspec": {
      "display_name": "Python 3",
      "name": "python3"
    }
  },
  "cells": [
    {
      "cell_type": "code",
      "metadata": {
        "id": "fGG2qA-oI7P9"
      },
      "source": [
        "!gdown --id '1Bt0D2Ya-4d0mZY25GgAru1vhIRq9rt_A' --output parkinglots2.zip # 下载dataset\n",
        "!unzip parkinglots2.zip"
      ],
      "execution_count": null,
      "outputs": []
    },
    {
      "cell_type": "code",
      "metadata": {
        "id": "bozyYzxFJTF4"
      },
      "source": [
        "import os\n",
        "import cv2\n",
        "import numpy as np\n",
        "import tensorflow as tf\n",
        "\n",
        "def readfile(path, label):\n",
        "    image_dir = os.listdir(path)\n",
        "    x = np.zeros((len(image_dir), 128, 128, 3), dtype=np.uint8)\n",
        "    y = np.full((len(image_dir)), label, dtype=np.uint8)\n",
        "    for i, file in enumerate(image_dir):\n",
        "        img = cv2.imread(os.path.join(path, file))\n",
        "        x[i, :, :] = cv2.resize(img, (128, 128))\n",
        "    return x, y"
      ],
      "execution_count": 2,
      "outputs": []
    },
    {
      "cell_type": "code",
      "metadata": {
        "colab": {
          "base_uri": "https://localhost:8080/"
        },
        "id": "8C2yGWQeJY28",
        "outputId": "bb42d1a1-a03d-4d79-b2a0-139302c14bcf"
      },
      "source": [
        "workspace_dir = '.'\n",
        "print(\"Reading training data occupy\")\n",
        "train_occ_x, train_occ_y = readfile(workspace_dir + '/train/occupy', 1)\n",
        "print(\"Reading training data free\")\n",
        "train_free_x, train_free_y = readfile(workspace_dir + '/train/free', 0)\n",
        "print('generating training data')\n",
        "train_x = np.append(train_occ_x, train_free_x, axis=0)\n",
        "train_y = np.append(train_occ_y, train_free_y, axis=0)\n",
        "del train_occ_x, train_free_x, train_occ_y, train_free_y"
      ],
      "execution_count": 3,
      "outputs": [
        {
          "output_type": "stream",
          "text": [
            "Reading training data occupy\n",
            "Reading training data free\n",
            "generating training data\n"
          ],
          "name": "stdout"
        }
      ]
    },
    {
      "cell_type": "code",
      "metadata": {
        "colab": {
          "base_uri": "https://localhost:8080/"
        },
        "id": "S1fz10XlJe92",
        "outputId": "5bc2348f-dc85-4891-8051-54585bd4ce61"
      },
      "source": [
        "model = tf.keras.Sequential([\n",
        "    tf.keras.layers.Convolution2D(48, (3, 3), activation='relu', input_shape=train_x[0].shape),\n",
        "    tf.keras.layers.MaxPooling2D((2, 2)),\n",
        "    tf.keras.layers.Convolution2D(48, (3, 3), activation='relu'),\n",
        "    tf.keras.layers.MaxPooling2D((2, 2)),  \n",
        "    tf.keras.layers.Convolution2D(48, (3, 3), activation='relu'),    \n",
        "    tf.keras.layers.MaxPooling2D((2, 2)),   \n",
        "    tf.keras.layers.Convolution2D(48, (3, 3), activation='relu'),    \n",
        "    tf.keras.layers.MaxPooling2D((2, 2)),           \n",
        "    tf.keras.layers.Flatten(),\n",
        "    tf.keras.layers.Dense(100, activation='relu'),\n",
        "    tf.keras.layers.Dense(1, activation='sigmoid')\n",
        "])\n",
        "\n",
        "model.compile(\n",
        "    optimizer='adam',\n",
        "    loss='binary_crossentropy',\n",
        "    metrics=['accuracy']\n",
        ")\n",
        "\n",
        "model.fit(train_x, train_y, epochs=10)"
      ],
      "execution_count": 23,
      "outputs": [
        {
          "output_type": "stream",
          "text": [
            "Epoch 1/10\n",
            "515/515 [==============================] - 9s 16ms/step - loss: 0.6868 - accuracy: 0.8443\n",
            "Epoch 2/10\n",
            "515/515 [==============================] - 8s 16ms/step - loss: 0.1020 - accuracy: 0.9686\n",
            "Epoch 3/10\n",
            "515/515 [==============================] - 8s 16ms/step - loss: 0.0841 - accuracy: 0.9733\n",
            "Epoch 4/10\n",
            "515/515 [==============================] - 8s 16ms/step - loss: 0.0775 - accuracy: 0.9741\n",
            "Epoch 5/10\n",
            "515/515 [==============================] - 8s 16ms/step - loss: 0.0629 - accuracy: 0.9800\n",
            "Epoch 6/10\n",
            "515/515 [==============================] - 8s 16ms/step - loss: 0.0550 - accuracy: 0.9830\n",
            "Epoch 7/10\n",
            "515/515 [==============================] - 8s 16ms/step - loss: 0.0557 - accuracy: 0.9821\n",
            "Epoch 8/10\n",
            "515/515 [==============================] - 8s 16ms/step - loss: 0.0281 - accuracy: 0.9915\n",
            "Epoch 9/10\n",
            "515/515 [==============================] - 8s 16ms/step - loss: 0.0372 - accuracy: 0.9890\n",
            "Epoch 10/10\n",
            "515/515 [==============================] - 8s 16ms/step - loss: 0.0358 - accuracy: 0.9899\n"
          ],
          "name": "stdout"
        },
        {
          "output_type": "execute_result",
          "data": {
            "text/plain": [
              "<tensorflow.python.keras.callbacks.History at 0x7f86720e3048>"
            ]
          },
          "metadata": {
            "tags": []
          },
          "execution_count": 23
        }
      ]
    },
    {
      "cell_type": "code",
      "metadata": {
        "id": "KMpOPDg1sZZZ"
      },
      "source": [
        "print(\"Reading testing data occupy\")\n",
        "test_occ_x, test_occ_y = readfile(workspace_dir + '/validate/occupy', 1)\n",
        "print(\"Reading testing data free\")\n",
        "test_free_x, test_free_y = readfile(workspace_dir + '/validate/free', 0)\n",
        "print('generating testing data')\n",
        "test_x = np.append(test_occ_x, test_free_x, axis=0)\n",
        "test_y = np.append(test_occ_y, test_free_y, axis=0)\n",
        "del test_occ_x, test_free_x, test_occ_y, test_free_y"
      ],
      "execution_count": null,
      "outputs": []
    },
    {
      "cell_type": "code",
      "metadata": {
        "id": "D9M-AhKjCRYe",
        "colab": {
          "base_uri": "https://localhost:8080/"
        },
        "outputId": "9c8a09d5-acd7-42d2-d93c-56446373fd9e"
      },
      "source": [
        "model.evaluate(test_x, test_y, verbose=2)"
      ],
      "execution_count": 24,
      "outputs": [
        {
          "output_type": "stream",
          "text": [
            "58/58 - 0s - loss: 0.0634 - accuracy: 0.9852\n"
          ],
          "name": "stdout"
        },
        {
          "output_type": "execute_result",
          "data": {
            "text/plain": [
              "[0.06340742856264114, 0.985213577747345]"
            ]
          },
          "metadata": {
            "tags": []
          },
          "execution_count": 24
        }
      ]
    }
  ]
}