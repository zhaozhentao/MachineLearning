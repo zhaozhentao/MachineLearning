{
  "nbformat": 4,
  "nbformat_minor": 0,
  "metadata": {
    "colab": {
      "name": "车位状态识别.ipynb",
      "provenance": []
    },
    "kernelspec": {
      "name": "python3",
      "display_name": "Python 3"
    }
  },
  "cells": [
    {
      "cell_type": "code",
      "metadata": {
        "id": "fGG2qA-oI7P9"
      },
      "source": [
        "!gdown --id '153DyBFeQCCl3-85M0SalJz8z0W_ZKYX5' --output parking.zip # 下载dataset\n",
        "!unzip parking.zip"
      ],
      "execution_count": null,
      "outputs": []
    },
    {
      "cell_type": "code",
      "metadata": {
        "id": "bozyYzxFJTF4"
      },
      "source": [
        "import os\n",
        "import cv2\n",
        "import numpy as np\n",
        "import tensorflow as tf\n",
        "\n",
        "def readfile(path, label):\n",
        "    image_dir = sorted(os.listdir(path))\n",
        "    x = np.zeros((len(image_dir), 128, 128, 3), dtype=np.uint8)\n",
        "    y = np.full((len(image_dir)), label, dtype=np.uint8)\n",
        "    for i, file in enumerate(image_dir):\n",
        "        img = cv2.imread(os.path.join(path, file))\n",
        "        x[i, :, :] = cv2.resize(img, (128, 128))\n",
        "    return x, y"
      ],
      "execution_count": 2,
      "outputs": []
    },
    {
      "cell_type": "code",
      "metadata": {
        "colab": {
          "base_uri": "https://localhost:8080/"
        },
        "id": "8C2yGWQeJY28",
        "outputId": "a5680cb2-91d5-43e0-f11c-9efff74f40ca"
      },
      "source": [
        "workspace_dir = './parking'\n",
        "print(\"Reading training data occupy\")\n",
        "train_occ_x, train_occ_y = readfile(workspace_dir + '/train/occupy', 1)\n",
        "print(\"Reading training data free\")\n",
        "train_free_x, train_free_y = readfile(workspace_dir + '/train/free', 0)\n",
        "print('generating training data')\n",
        "train_x = np.append(train_occ_x, train_free_x, axis=0)\n",
        "train_y = np.append(train_occ_y, train_free_y, axis=0)\n",
        "del train_occ_x, train_occ_y, train_free_x, train_free_y\n",
        "\n",
        "print(\"Reading testing data occupy\")\n",
        "test_occ_x, test_occ_y = readfile(workspace_dir + '/test/occupy', 1)\n",
        "print(\"Reading testing data free\")\n",
        "test_free_x, test_free_y = readfile(workspace_dir + '/test/free', 0)\n",
        "print('generating testing data')\n",
        "test_x = np.append(test_occ_x, test_free_x, axis=0)\n",
        "test_y = np.append(test_occ_y, test_free_y, axis=0)\n",
        "del test_occ_x, test_occ_y, test_free_x, test_free_y"
      ],
      "execution_count": 3,
      "outputs": [
        {
          "output_type": "stream",
          "text": [
            "Reading training data occupy\n",
            "Reading training data free\n",
            "generating training data\n",
            "Reading testing data occupy\n",
            "Reading testing data free\n",
            "generating testing data\n"
          ],
          "name": "stdout"
        }
      ]
    },
    {
      "cell_type": "code",
      "metadata": {
        "id": "S1fz10XlJe92"
      },
      "source": [
        "model = tf.keras.Sequential([\n",
        "    tf.keras.layers.Convolution2D(25, 3, 3, input_shape=train_x[0].shape),\n",
        "    tf.keras.layers.MaxPooling2D(2, 2),\n",
        "    tf.keras.layers.Convolution2D(50, 3, 3),\n",
        "    tf.keras.layers.MaxPooling2D(2, 2),\n",
        "    tf.keras.layers.Flatten(),\n",
        "    tf.keras.layers.Dense(100, activation='relu'),\n",
        "    tf.keras.layers.Dense(1, activation='sigmoid')\n",
        "])\n",
        "\n",
        "model.compile(\n",
        "    optimizer='adam',\n",
        "    loss='binary_crossentropy',\n",
        "    metrics=['accuracy']\n",
        ")\n",
        "\n",
        "model.fit(train_x, train_y, epochs=30)"
      ],
      "execution_count": null,
      "outputs": []
    },
    {
      "cell_type": "code",
      "metadata": {
        "colab": {
          "base_uri": "https://localhost:8080/"
        },
        "id": "D9M-AhKjCRYe",
        "outputId": "f62eb6c1-0a3d-454a-f7e5-691051499c58"
      },
      "source": [
        "model.evaluate(test_x, test_y, verbose=2)"
      ],
      "execution_count": 5,
      "outputs": [
        {
          "output_type": "stream",
          "text": [
            "23/23 - 0s - loss: 0.0172 - accuracy: 0.9932\n"
          ],
          "name": "stdout"
        },
        {
          "output_type": "execute_result",
          "data": {
            "text/plain": [
              "[0.017180217429995537, 0.9932065010070801]"
            ]
          },
          "metadata": {
            "tags": []
          },
          "execution_count": 5
        }
      ]
    }
  ]
}