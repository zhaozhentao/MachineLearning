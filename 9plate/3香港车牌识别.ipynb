{
  "nbformat": 4,
  "nbformat_minor": 0,
  "metadata": {
    "colab": {
      "name": "香港车牌识别.ipynb",
      "provenance": [],
      "collapsed_sections": []
    },
    "kernelspec": {
      "name": "python3",
      "display_name": "Python 3"
    },
    "language_info": {
      "name": "python"
    },
    "accelerator": "GPU"
  },
  "cells": [
    {
      "cell_type": "markdown",
      "metadata": {
        "id": "QC_76ZNn_GfA"
      },
      "source": [
        "### 训练数据集目录结构(不带验证集)\n",
        "\n",
        "plates -> 车牌号.jpg\n",
        "\n",
        "![cjy.png](data:image/png;base64,iVBORw0KGgoAAAANSUhEUgAAASAAAACsCAYAAADbhnGXAAABR2lDQ1BJQ0MgUHJvZmlsZQAAKJFjYGASSSwoyGFhYGDIzSspCnJ3UoiIjFJgf8rAwsDLwMGgxSCcmFxc4BgQ4ANUwgCjUcG3awyMIPqyLsisT9VXRV9KRLKrvPdodX/6ew2mehTAlZJanAyk/wBxWnJBUQkDA2MKkK1cXlIAYncA2SJFQEcB2XNA7HQIewOInQRhHwGrCQlyBrJvANkCyRmJQDMYXwDZOklI4ulIbKi9IMDj4urjoxBsZGJo6kHAuaSDktSKEhDtnF9QWZSZnlGi4AgMpVQFz7xkPR0FIwMjQwYGUJhDVH8OAoclo9g+hFj+EgYGi28MDMwTEWJJUxgYtrcxMEjcQoipzGNg4G9hYNh2qCCxKBHuAMZvLMVpxkYQNo89AwPr3f//P2swMLBPZGD4O/H//9+L////uxho/m0GhgOVAIiWYRWx4+fFAAAAOGVYSWZNTQAqAAAACAABh2kABAAAAAEAAAAaAAAAAAACoAIABAAAAAEAAAEgoAMABAAAAAEAAACsAAAAABQKq7sAACIESURBVHgB7Z0L1FRV+ca3IEllCURipoCJIoGwylKJS965WYopAoqwFgpdQEDEMBVWKCos0QwEBcEL3jJFMBBvSa4EtbJQUW5GQVJgXggr0DD+/t7Vnv/5zndmznzzzXxzzszzrvV957b3PnuePfOuvd+99/Pss/djczIhIASEQBkQaFSGd+qVQkAICAFDQA5IXwQhIATKhoAcUNmg14uFgBCoCge0adMmN378ePf222+rxYWAEEgQAvs2VF1+9atfuWeffbbW69q2beuGDh1a634xb7zzzjvuoYcecqNHj3YtW7aMLZq6tm7d2n3pS1+KTasEQkAIFI5AgzigP//5z27OnDmRtXz99dfdv//9b/e9730v8nk5bn7/+993o0aNchxlQkAIlA6BBnFAOJhcRo+Dv2z25S9/2U2ePDnbY/f++++bgzv11FPdL3/5S7dt2zZ37LHHunPOOcfts88+kfl4369//Wt7Tr6vfe1r7q9//au7//773b/+9S+3YsUKt++++7oRI0ZY/rfeess9/vjj7pVXXnHt27d3559/vvvkJz9pz7Zv3+6efvppt2bNGte9e3f3zW9+0+2///6R79VNISAE/h+BVMSA6CXxl81wGLfccos788wz3ZYtW9zq1avdhAkT3KxZsyKzzJ0714Z97777rsOxDBgwwC1atMj997//dXv27LE8nP/nP/+xc9J95zvfcbNnz3Ysm7rmmmvMAXH+wQcfuD59+rj77rvPHNZVV13lLrroosj36qYQEAI1EWiQHlDNV5bu6uqrr3YXXHCBORIc0JIlSyzuE37jjh073NSpU82J8Kxx48Zu4cKF1mP60Y9+5O655x538sknZ4ZgODfiSC+99JL1evr37+/OO+8895vf/Ma999579owYEzGjM844w02bNs16UwcffHD41boWAkIggEAtB8TwhWFILhs0aJA76KCDciUpyzMC2lijRo1cr169LPDM8ChsOKeNGze6u+++23pWa9eutZ5QOJ2//u1vf+tatWrlbrvtNrvle0bMrnXr1s19+tOftqHa2Wef7RjO/fznP/dZdRQCQiAHArWGYDgWHAyB4xdeeKHGH/eS6nzCn7F58+Z2C4cathkzZpijYFhHfIkZr1z2xhtv2NBs8+bNjj9iRWeddZY5JfI+8cQT5vB+9rOfuZNOOsldfPHFmaFcrnL1TAhUOwK1ekAAghO6/PLL3XXXXWcB3eC9JPZ8ohqR4RI9k44dO7o//OEPmSS7du1yM2fOdGPGjHGXXHKJ3WcY9bvf/S6TJnzSoUMH949//MPddNNNmUcfffSRDd1w0sSR6FXx9/DDD1u5DNGOO+64THqdCAEhUBuBWj0gn8Q7IY7Bc/88icebb77ZMZxatmyZu/POOy2Ow0xW0Jo2bepwKCtXrjTHhMO48cYbLY6DU8EOO+wwC2S/+eabdo0zYchG8Hn9+vU248XQa926dY5hGOuLGHbRQ9y6davl+exnP2tH/RMCQiA7AjV/naF03vFwm/Ok2yc+8QnXu3dvqyYBYd/DCdabaflJkyZZEJpZM3pJp59+ulu6dKkjXkTgeNiwYe7SSy+1XtHvf/97R9D573//u7v22mvdvHnzLA/rlo466ijXrl07czykx4444ghzVDg5mRAQArkR2Kch6DiItfz4xz/OXZOYp6wDIl4TZcR5GO4wk/WNb3zD1gX5GFBUen+P2bADDjggcq0QQzWm4nFQ3rhmuNaiRYtaeXi2c+dO16xZM59cRyEgBGIQyNkDismbyMcMufJxPlQ+l7PwiwyDH5LZtc997nPBW5lznuUqL5NQJ0JACGQQyBoDyqQowsmnPvWpepeSqwycDkOfYG+l3i9UAUJACJQcgQYZgvEp2PrAepq4bRnhT4zjOeGEE9zXv/718CNdCwEhkHIEGswBpRwnVV8ICIESINAgQ7AS1FtFCgEhUAEIyAFVQCPqIwiBtCIgB5TWllO9hUAFICAHVAGNqI8gBNKKgBxQWltO9RYCFYCAHFAFNKI+ghBIKwJyQGltOdVbCFQAAqnfisEO9FyLG7PtH6uAttNHEAKpRyDVDojV1dnUNnzLsIq6UMUN+KH/9Kc/uSZNmrhDDz3U+H98uf4IO+KGDRtM7ufAAw+stUnVpwtvfKVsaF7Zt8Yu/jiDFA3GxzC9SFw+PRcCSUYg1UMwtnZkM3o+qFPk46Siynj11VdNWeOUU06xcjj+5S9/ySTFgUDBAR1H3759Le3AgQNrULvinJ566imja+3SpYupbfgCYFZEuQNCsziDlwiO6uXLl8cl1XMhkCoEUu2Acg29aAV0vQp1QhMnTnSHHHKIe+yxx4wjG4dz/fXXZxoX8nqe3XXXXSbVs2DBAiMtQ3HDG/SsF154od339wo5wlGE6gZOSCYEKgmBVA/B8mkILy5ITwjLZzgG5zMaX9OnTzdKV/IhtYPkDnSuf/vb3xz8z/SAGOJhOIeRI0caaRkMifAMXXHFFcZPhP6Yr4clruM/pH9gcPz85z/vjjzySOOgRoqI4dhzzz1n/ET0vhiieUOnDI00mBkhaaMnNmTIEPeFL3zBJ9FRCJQdgYp3QCDsf/w4IXbXx0lBeyUN+KS90RvCICR77bXX7Bzys6AhVsiwCm4gzLMzBtMUco4DQhqIYRwOCIcG+Rqsj9wjDobCB8M5HM6jjz5qNLEQ5iO4CPMjdtppp8kBFdIAylMyBCrWAUGhilaXNwLE8AUxaxZn9C4wmA+9eT4inhEQxvjxB43yv/KVrwRvleycngw0srwTFY4TTzzRHBBO5he/+IXr0aOH8WLTS0IqKJ+eX8kqq4KFQBYEKtoBlUKfC05p38OBhrVcBke3J2CjJwQhGz2jnj17uieffNJ4r/2MGc9lQiCJCKQ6CF0qQL2ixT//+c/MK/w5z7zi6csvv5x5zgnSPc8884wN02o8aIAL4kPMliEjjaVBRKABYNErEo6AHFBEA/lALVI83vywi+Byp06d7Pbzzz/vH9tx/vz5btSoUXmt66mRsYCLYO+L6f5Vq1bZsIuhJoaahzcvN+SvdRQCSUGgYodg9QGY3gQxFKbdGcYw3c/0OrNIGEOaAQMGOBRWWaCIBA/ih7fffrsFvP3QKJ864OR8j4v0DPE6d+5swyim/vv16xdZDL0vZuKIQ7EEAKPO1BeJaOS127RpY2UhMCkTAklEQA4oS6vwo/3BD35giwhJwnT7+PHjM6mnTp1qjmPs2LGZe+eee65pimVuhE5wLt78+ZQpU/ytzPGPf/yje+CBB8zxZXNAqHPccccdJsRIxnHjxlkciHPWKLGUgGUDmJ+t8++0m/onBBKAgBxQlkagZ8N0NrNe/HD9LJhPzvYJfuCs9WFqnqGZD/r6NP6IE2Hlc9DoRYXvBZ/Tm/Lmh1BBB8IU++LFiy3uhIRQcDsH9SA/+fbbbz/rDTFEa9WqlS9SRyGQCATkgGKaIW44lUsrLKbonI8bN25sz7ds2eKWLFli5yixhg3HF7YbbrjBFEhYPElPiJ4SwzMFpsNI6brcCMgBlbsFYt7PCmYcCMFtej0Ygea2gVXP4SIYgrFim9gQixhZiDhmzJhwMl0LgbIjkGpZHuSekX2ui7EyeMKECXXJorRCQAiUCIFUT8Oz0bSu5vdu1TWf0gsBIVB8BFLdAwIOtlbE7Yr3sBFIzjV08el0FAJCoGEQSL0DahiY9BYhIARKgUCqh2ClAERlCgEh0HAIyAE1HNZ6kxAQAiEE5IBCgOhSCAiBhkNADqjhsNabhIAQCCEgBxQCRJdCQAg0HAKpXwkdNw0vXbCG+zLpTUKgrgik2gHlI7nDwsNC6Uihw4jSBeM+ml7e9t9//ww7ob+3a9cut3PnTn+ZObKh1HP2cBMCMUju2fwapOXIZPjfiXTBwojouhIQSLUDitMFg9cHJ4XV1QmhCwZ5vXc07F6H+B1HQa8rLJHDZs9evXq58847zyhb2UD6wx/+0N4d/scueHaqT5o0yd1zzz2Zx6T3BPqZmx+feF2wWbNmuW9961vBRzoXAqlGINUOKG4FtP8xF+KEvC4Y6hNQreIcIChDncLbT37yE3f88ce7bdu2uUceecRdeeWVRskxaNAgn8StWLHCQZfhzVNqPPvss+Z8yINTgT5j2rRpDgFElC+C5nXBGorwPvhunQuBUiKQageUDzCFOKE4XTD/XnpY0Lfyd/TRR5tKBcTwQQfEs6AD8nnZ5Q6pGJQZGA4P8UGcZdgBhXXB5s2bZyyMa9eudevXr3eHHXaYEaEFqUOkC+aR1jHJCFS8AwL8oBMqhi5YVIPCy7x7927Teo96Hr6HkzvmmGMytyERw5HQmwpbWBeMoSA8QTAdQkSG+gcChdCwYtIFCyOo66QiULEOqJS6YL4x6YHAOEgQ+eGHHzb2xNNPP90/tiPDqyBTIkOu7t27O1Q2wgRjOMf333+/Rv5sF7Aszp492x7DDX3ZZZdZvIpelXTBsqGm+0lDoKIdUKl0wXwjXnPNNf7UjjgCYkJBGz58uDkpfy+4Gz+obOGf+xiRv852DGp9ETfCUEYlOC5dsGyo6X7SEKhYB1QfoP10uNcCoyx/zjN6V9i9995rvRkUMWAd3Lp1q90P/uN+VAyoWbNmtabp6f00b948mD2vc19fhnXSBcsLMiVKCAJaCR3REHG6YOEszE716dPHoZTB+p98jOn8IJsj8SOGdF70MK6MvXv3ZpKsWbPGzrt27ZpZYyRdsAw8OkkwAuoBRTROnC5YRBZ36aWX2vAHHmbkfLyh39W0aVN/aUd0v4gVwfWMssZZZ51l5zxExx174oknXC5dMPISSyK+xPIAZsBY9Q1JvnTBDEL9SwECckBZGilOFyycrV27dm7w4MFu+vTpthjRx3LQCgsbPR+4qZH0odfErBYOBCJ53wOK0wXjfcSXkA3yeb1mvXTBwojrOqkIpJoRsRBSenoJkydPzrs9sumC5V1ATEJWRO/YscO1aNHC9Md8cq8FhjwPq7G/+tWvOtb/nHbaaSaxc8YZZ5hQIjEf4kbe+ZCfhZP0jIK6YHzmF198UdI8HmAdE4GAekAxzRBc3BeTtKDHOBimzsOWjy4YvayovNIFC6Op66QiIAeU1Jb5X72idMEYfhGnymbSBcuGjO4nDYGqG4JJFyxpX0HVp5oRSPU0vHTBqvmrq89eCQikugdEA0CNEbcr3jeUdME8EjoKgWQgkHoHlAwYVQshIAQKQSDVQ7BCPrDyCAEhkBwE5ICS0xaqiRCoOgTkgKquyfWBhUByEJADSk5bqCZCoOoQkAOquibXBxYCyUEg9Suh46bhpQuWnC+baiIEwgik2gFB4D5nzpzwZ6pxXR9dMF8Qm0UPOOCAGptFecb6I3TDWrZs6Vq1auWT2zFKF4wNosG9W/lqgkE09pnPfMb+arxEF0Ig5QikeggWpwvGSul8nFRUG0Iyzz6sESNGuC5duhjtRTAddK8dOnRwffv2dccee6ylC5KRoffF/eCfp+ZglzpUHBCZkR9FDc/vHHyHP4cvCMkemRCoNARS3QOKWwEdVMOg4eoiTnjSSSeZ8kSQe9k3PvQYEJDhGCZMmGCKFBwXLVpkXECk2759u+vUqZPxA/l8npisLppg5J07d27Ozae+fB2FQNoQSLUDygfsQp0QPRRkb9D58mX49yGBg40ePdoIxAYMGODQ4YIMHmVUDAd0+OGHu44dO9p18F9dNMHIB+f0IYccYvpjMCXCUcRwjnrAIzRw4EAXJLuXJlgQbZ0nGYGKd0CA7x0Iw7F8dMHI07t3bw6RhnPB2rRpk3lOT4kfvjfiNmjG33zzzUYQBn0qvSqsLppgpEfvq1u3bkb5ikNErZX3MTQkBgajIooYkNNLEwzEZGlBoGIdUH10weIaD4WM1q1bO08aRnqUL7wiBdcoZKAXRrwHgvj58+c7pJz79+9fb00wSPOXLl1qVKwXX3yxO/HEE80BwZYoTTDQl6UFgYp2QKXQBfMNS5A6bKiUeluyZInNmh144IHuww8/dEOHDjXxQhwQVh9NsIMOOsicD+XQEzriiCNsqNizZ09pggGKLDUIpHoWrFwoM9TZuXNnjdej6RWcYmdaHueD4ZjQB2P4RL5iaoJRPuyIb775ZqYHhoOSCYE0ICAHVEArERAmEOxjQRSxYcMG98UvftFKQ9/9nHPOMZ0vXzzDMQxnVF9NsGDviZ7YqlWrjKjeOzxpgnnUdUw6AnJABbRQjx49bAg0duxYx1qkn/70p46pdXTgMXogxISmTJni0AVj5opAMYsimYpHE2zTpk2mCcYMF7rumNcEQ6CQ4HJQfNAS/O8fZSIDvW7dOltPxG3qxMyY1wTjfatXr7Y6BPPqXAgkCYGKjQEVG2Sv80W5KGWwNocAMD94bOTIkaaOahcf/7vyyitN5+vb3/623WJKHwFBLE4TjOl10g4ZMsRm0ixT4B9DPYQJcVTYuHHjLA7EuTTBQEGWFgRSzYjYELpgcQ3JzBcxIXofUcbqaHoyTP+HjRmyKE0w0jG0atKkiWU55ZRTHKu6UVHFsSHFvHjxYpvep6cVDH5LEyyMsq6TjED0rybJNU5Y3VgImMtwENksmyYY6XE+OBPiOxs3bsysZQqWxf60sEkTLIyIrpOMgBxQgluHONH48eMdKqh+ESOB5uCq53D1pQkWRkTXSUag6oZg0gVL8tdRdas2BFI9CyZdsGr7uurzVhoCqe4B0RhxhGTBBpMuWBANnQuB8iOQegdUfghVAyEgBApFINVDsEI/tPIJASGQDATkgJLRDqqFEKhKBOSAqrLZ9aGFQDIQkANKRjuoFkKgKhGQA6rKZteHFgLJQCD1K6HjpuGlC5aML5pqIQSiEEi1A4LjuZy6YB5QNqRG7QnLphsW1gxj31dUfl8+/D8QnkXt/SKNlwPKtu9sz549bvPmzUaS78vUUQgkAYFUD8HKqQvGRlHI4qHbGDZsWK22zKUbBl1rUC8MfTB6ajfeeKPDWXjbsmWLcQ1B5XHrrbf623Zkhz1cQuyQP+aYY9yLL75Y43nwAp5o9pJBlCYTAklCINU9oHLpgkF/ikoFvEBQcXgmQt+w+eiGkXbFihVGXAYlB04JBQ16MeiXLVu2zHbAw/ns2RR9+RwnTZpkJGeII8LOmMsgq8dZhtVbc+XRMyHQEAikugeUD0BI8hSikIou2KuvvmoChOH3IJMMIdgrr7ySYTEMponSDevVq5cRxgfToW7BH05k4sSJJmS4fPlyS9KuXTtTuMBJocARtj59+riVK1e6u+66K/yo1jUOjDrt3r3bns2bN8+uOSKweMstt9RwYvTCYFTk2cyZM01xY8aMGbXK1Q0hUF8EUt0DyvfDF1sXjFiMp8eIqoPnis6lGxaVj1iQ53tu3759VJLMPYZlmH9X5kHECYF6nMzw4cOth4VzYXhHGZCZMVzEQdFLwiZPnuy8tDS9OTiGMKhBZEKgmAhUrAMqpS5YXAPkoxtGGQgUMuQiiI1aKjEdehwNYf369cvo0cMvDS81zgbn+sgjj7hLLrnEjRkzxqrCcC+fnlZD1FvvqCwEKtoBlVIXLO5rEKcbRv5gL+r44493UMz27ds3ruiiPCe25A3KVwx1VQj1iSkF64bumEwIlAKBinVApQAr3zLz0Q2jLHTCoAihF0RAu1xGfTF6ZPBUY9IWMxj0r8QIVHwQusT4RRYfpxvmMyEo2LJly7I4n6DkDyT3WNeuXS0ozjnDQW8+LuWvdRQCxUJAPaBiIRkoJ6gbRizl+eefN92wWbNmBVKV9hQtMmaziPVEGbN43bt3NzUPJIDogbEWCWfDzNz06dNNWpreGcsDZEKgFAjIAeWJalAXLJgl6n6cblhUnmCZ4XMkf+qa54EHHnCsk8rmgJjmZ1aMeA/1JfjdqFEj+7v99tvdhRdeaH/UhYWSBKhlQqDYCMgBxSDKD5htDNkM9dMoo3eBRHKUbti5557r+MvXWAuUzVhcGFU/nIg3H9cJOrGePXva4kfq17x5c3M8Pj3Ch/Ta3nvvPZsV++53vxu5Fsmn11EIFIqAHFChyOWZL9cerzyLKCgZmmMYiylZZc2wCkcTNBwSziZoDMEGDx7sWIfEjNxLL71kCyhZlCgTAsVGQEHoYiOasPLQrUfCGb0w3wNi+EUAPMoYhrEIkdXeN910kwWjWQfE9hCZECg2AqkmpS9Emlm6YMX+Cqk8IVA4AqnuAUkXrPCGV04hkAQEUt0DAsA4QrIgyNIFC6KhcyFQfgRS74DKD6FqIASEQKEIpHoIVuiHVj4hIASSgYAcUDLaQbUQAlWJgBxQVTa7PrQQSAYCckDJaAfVQghUJQJyQFXZ7PrQQiAZCKR+K0bcNLx0wZLxRVMthEAUAql2QEnXBQNwmBE3bNhgvD+oZ/jtEMHGQPMLjmaYB+FozmZx+l9xz6UPlg1Z3S8XAqkegiVZF4wfOxs42XfFpk50wAYOHOjeeuutTFujLQZhfqdOnSwNDmjcuHFu69atmTRx+l9xzzMFfXwifbAgGjpPAgKpdkD56IIVIslDw8CJDCfOxo0ba7UTumCdO3d2V199dQ2HEkzI5s/HHnvMyNyR71mwYIGVNXfu3EwyHBS9uIULF9qu9XvvvddoMLwKBQnZCHrmmWc6nG2U/lfc88zLPj6RPlgQDZ0nAYFUO6B8ACyHLhg9GJQm2EF+wgknGKfOySef7EaOHOnQ4qLns379eqO5YEMt3DzwMsMhhONatGiRbTHh88Xpf8U9D2IU1Adj2AfrIdSrODyc4YMPPuiCVK3SBwuip/NSIFDxDgjQgk4oX3mZ3r17m1OIAt3rgsFUGGWvvfaa3fbaXT7N+eef7xYvXmzkX2+88YbdDm+oReoZgrG2bdtmyoBjOpvxjlzPg/kI2KMPRs+R3hTn9K6IP61evdpNmDDBBWlj0QdD+pn6QK4GiRr0HjIhUCwEon9BxSq9jOWUUxfMO5cuXbrUQADqU+hNMRQoME8IRgB5586ddo9/zZo1c/vtt1/mulQnDCMvuOAC44LGAUFeNnr0aOOTlj5YqVBXuR6BinZA5dIFg9QLy6Um4RkL6Y1A/sWP/fLLL/ft4ubPn++8XlfmZglOfE+LOiMf/dBDD5naKnEu6YOVAHAVWQOBqhiC1fjEDXBx8MEH21tefvnlGm8j9vPMM88Y17Jfn7Rq1SpL079/fws0P/roozXyNOSFp2zdtm1bZiZO+mAN2QLV9y45oBK0OdPqGMTuQaNXM2rUKFvr07FjR3vELBiG/A3rhLJRpVqiEv+D/5lhInWDQxqTPliJQa/y4it2CFbOdkX2eMCAAW7GjBnu0EMPdR06dLAfMkoVBMT5kWPMgBHoJQ3Dnw8//NDdf//99gyHVAxj1g3Z56OPPjqyODS/cHqbNm1yd955p2O2juA6sSrpg0VCpptFREAOKE8wo1YwkzXb/alTp9os2tixYzNvYBZp2LBhmWt/jobXtGnT7D6LEefMmeO6deuWSVfoCQ4NYnlkdbI5IFZeM+OH4TgRUsRwQtIHMyj0r4QIpJoRsRBSemIv9DoayghEe32tbNP21IUZsKZNm+bcilFIndkK0qRJE8uKWuqIESOsN4ZzOu6442wRJFP5rAvyMSD/HtYNEQPy9ceRrVu3zjTtfRodhUB9EFAPqD7o5ZGX2SU/1Z4rOQsRS2He+YT1wbZv3555HY4x7HykD5aBRyclREBB6BKCm6Siw/pgOB2Gez4eFa6r9MHCiOi6FAhU3RBMumCl+BqpTCFQGAKp7gGFtzHkAwF7s2RCQAgkA4FU94CAkP1NcbviPdTSBfNI6CgEkoFA6h1QMmBULYSAECgEgVQPwQr5wMojBIRAchCQA0pOW6gmQqDqEJADqrom1wcWAslBQA4oOW2hmgiBqkNADqjqmlwfWAgkB4HUb8WIm4b3vDvJgVw1EQJCwCOQagcElw47x3MZCw8hh6+P7dixw4jls+18f/fdd12LFi0iXwG51+7du12bNm1q7Jx/++23jQMo21YIXxh7stgoCg91lMU9Jw8UsTAf5toMG1W27gmBUiOQ6iFYknXBli1b5iCYZ8c5K7Yh+Xrqqacy7YkSxuzZszPX4ROI4tm/xU71W2+9NfzYiORzPfcZoFaF42f58uX+lo5CIDEIpLoHFLcCGvIvzLMO1qUnhC4YTgCOnLDxo4avh94Lu9hhMgwaz3n3oEGD3MyZM43g/bbbbjOdsccff9wIyoLpw+c4L/Lzbigxwhb3PJgeetj77rsvQ4YffKZzIVBuBFLdA8oHPH7IhYgTXnHFFSYWiF5W2CCRv+OOOxyCg6eeemr4cYYvB2FDhl6HH364Ec5Dy5Gr1+YLQk0VFdMVK1a41q1b+9uZY9zzTMKPTz744AO3cuVKh1PEYEh87rnn7MhnQ5onLHj49NNPW32vu+464w5CPyzKEVqB+icE6oFAqntA+X7uYE+I/WBDhw6NzepZAqMSel2wqGfc82oWDJEQGoTUC74dtLXysfbt2+dMFvc8mBkHhJNBIujII490d999t/XsGNrBhohyCA7JU8FCio8sD44P5gB0wzBUVT1PdLB8nQuB+iBQsQ6onLpgcCxDsTplyhTT2erXr5/pwqN86iV76tNo9c1LfXz8CQXXyy67zL3zzjtGnEbPq0ePHsYPTdCaHl5dhq71rZvyVxcCFe2AyqULxldo4MCBGZ0t1FCHDBlivQiURxtCcDDX1zgY1/K9tRdeeMGC1U8++aTp0fsZs2DaXGXqmRAoBIGKjwEVAkp988C3zB/DrosuusgRNIYcnh/30qVL61t8UfN7KliUWllOgEkLrKgQq7AcCMgB5QCn0EfEfZDCIf7irU+fPna6du1af6tsx71792bevWbNGjvv2rVrZjYvGKv66KOPMml1IgSKjUDFDsGKDVRdymP9D8O/iRMnurPPPtsR+EbyGCP+4o1FiqtXr/aXdszF01wjYY4L1C/27NlT413B5MzgEY9imHX99dfbcgJWjBOfor4EpJm969y5s2MmTCYESoWAHFCeyGZbBR11n0WGCxcudNdee60bPHiwvYEV2YgAIvjnDafkHZO/9+CDD9riRX+Nk4h6R67n6IyxRiro7Hx6jkzjDx8+3KbfWcvEWiUfHKf3xnDsqquusizMlmG56mAJ9E8IFICAHFAMaPyIN2/enDUVM11RhhPib9euXfY4rHT6+uuvR2WrdY+1QLks6jmCgt78ECroQKjXkiVLLOZDnMo7H/Lg8MhPPoLl9IbQr2/VqpUvUkchUDQE5ICKBmV0QWHHE52quHcbN25sBbKSG0eDHXXUUXb0/3BIUXplN9xwgy2WJHhOT4jhGtPyCkx75HQsJgJyQMVEM2FlsfcMBzJq1KjMimqGX6xTymYMwRiSLViwwILoLEQcM2ZMtuS6LwTqhUCqSekLkWaWLli9vi/KLASKikCqp+GlC1bU74IKEwINjkCqe0CgFUdIFkRUumBBNHQuBMqPQOodUPkhVA2EgBAoFIFUD8EK/dDKJwSEQDIQkANKRjuoFkKgKhGQA6rKZteHFgLJQEAOKBntoFoIgapEQA6oKptdH1oIJAOB1K+EjpuGly5YMr5oqoUQiELg/wDYG7LpDivBKwAAAABJRU5ErkJggg==)\n",
        "\n",
        "### 训练输出\n",
        "\n",
        "* char_idx.json 结构 {'A': 1, 'B': 2, ...}\n",
        "* idx_char.json 结构 ['A', 'B', ...]\n",
        "* hk.h5\n"
      ]
    },
    {
      "cell_type": "code",
      "metadata": {
        "id": "rJjAbI2p-KN8"
      },
      "source": [
        "!gdown --id '1wdtP__Oc_qXH0YCm-QygzXAa-W2UeMD0' --output plates.zip\n",
        "!unzip -o plates.zip > /dev/null"
      ],
      "execution_count": null,
      "outputs": []
    },
    {
      "cell_type": "code",
      "metadata": {
        "id": "bjAWTLu6BZ34"
      },
      "source": [
        "import pathlib\n",
        "import tensorflow as tf\n",
        "import matplotlib.pyplot as plt\n",
        "import numpy as np\n",
        "import json"
      ],
      "execution_count": 2,
      "outputs": []
    },
    {
      "cell_type": "code",
      "metadata": {
        "id": "-Aj69clnBVN5"
      },
      "source": [
        "glob = pathlib.Path('plates').glob(\"*\")\n",
        "plates = [str(p.name).replace('.jpg', '') for p in glob]\n",
        "max_length = len(max(plates, key=lambda plate: len(plate)))\n",
        "\n",
        "char_set = set()\n",
        "for plate in plates:\n",
        "  for c in plate:\n",
        "    char_set.add(c)\n",
        "\n",
        "char_idx = {}\n",
        "idx_char = []\n",
        "for idx, c in enumerate(char_set):\n",
        "  char_idx[c] = idx\n",
        "  idx_char.append(c)\n",
        "\n",
        "# 最后一个占位字符\n",
        "idx_char.append('')  \n",
        "\n",
        "# 保存解释规则\n",
        "with open('char_idx.json', 'w') as f:\n",
        "  json.dump(char_idx, f)\n",
        "\n",
        "with open('idx_char.json', 'w') as f:\n",
        "  json.dump(idx_char, f)\n",
        "\n",
        "char_type = len(char_idx)\n",
        "\n",
        "label = [[] for i in range(max_length)]\n",
        "for p in plates:\n",
        "  for i in range(max_length):\n",
        "    if i < len(p):\n",
        "      label[i].append(char_idx[p[i]])\n",
        "      continue\n",
        "    label[i].append(char_type)"
      ],
      "execution_count": 3,
      "outputs": []
    },
    {
      "cell_type": "code",
      "metadata": {
        "id": "0f67HzO5IIFC"
      },
      "source": [
        "# build dataset\n",
        "image_path_ds = tf.data.Dataset.from_tensor_slices(plates)\n",
        "label_ds = [tf.data.Dataset.from_tensor_slices(l) for l in label]\n",
        "batch_size = 128\n",
        "\n",
        "def load_and_process_image(image_path, l0, l1, l2, l3, l4, l5, l6, l7):\n",
        "    image = tf.io.read_file('plates/' + image_path + '.jpg')\n",
        "    image = tf.image.decode_jpeg(image, channels=3)\n",
        "    image = tf.image.resize(image, [80, 240])\n",
        "    image /= 255.0\n",
        "    return image, (l0, l1, l2, l3, l4, l5, l6, l7)\n",
        "\n",
        "\n",
        "ds = (\n",
        "    tf.data.Dataset.zip((image_path_ds, label_ds[0], label_ds[1], label_ds[2], label_ds[3], label_ds[4], label_ds[5], label_ds[6], label_ds[7]))\n",
        "        .map(load_and_process_image)\n",
        "        .cache()\n",
        "        .batch(batch_size)\n",
        "        .prefetch(buffer_size=tf.data.experimental.AUTOTUNE)\n",
        ")"
      ],
      "execution_count": 4,
      "outputs": []
    },
    {
      "cell_type": "code",
      "metadata": {
        "id": "7TleODmN7hQQ"
      },
      "source": [
        "# check dataset\n",
        "for d in ds.take(1):\n",
        "  images = d[0]\n",
        "  plt.imshow(images[0])\n",
        "  plt.show()\n",
        "  l = d[1]\n",
        "  plate = []\n",
        "  for i in range(8):\n",
        "    plate.append(idx_char[l[i][0]])\n",
        "  print(plate)"
      ],
      "execution_count": null,
      "outputs": []
    },
    {
      "cell_type": "code",
      "metadata": {
        "id": "ZkGxPNPlRHWL"
      },
      "source": [
        "# define model\n",
        "input_layer = tf.keras.layers.Input((80, 240, 3))\n",
        "x = input_layer\n",
        "x = tf.keras.layers.Conv2D(filters=16, kernel_size=(3, 3), strides=1, padding='same', activation='relu')(x)\n",
        "x = tf.keras.layers.MaxPool2D(pool_size=(2, 2), padding='same', strides=2)(x)\n",
        "for i in range(3):\n",
        "    x = tf.keras.layers.Conv2D(filters=32 * 2 ** i, kernel_size=(3, 3), padding='valid', activation='relu')(x)\n",
        "    x = tf.keras.layers.Conv2D(filters=32 * 2 ** i, kernel_size=(3, 3), padding='valid', activation='relu')(x)\n",
        "    x = tf.keras.layers.MaxPool2D(pool_size=(2, 2), padding='same', strides=2)(x)\n",
        "    x = tf.keras.layers.Dropout(0.2)(x)\n",
        "x = tf.keras.layers.Flatten()(x)\n",
        "x = tf.keras.layers.Dropout(0.2)(x)\n",
        "\n",
        "output_layer = [tf.keras.layers.Dense(len(idx_char), activation='softmax', name='c%d' % (i))(x) for i in range(8)]\n",
        "\n",
        "model = tf.keras.models.Model(inputs=input_layer, outputs=output_layer)\n",
        "model.compile(optimizer='adam', loss='sparse_categorical_crossentropy', metrics=['accuracy'])\n",
        "model.summary()\n",
        "model.fit(ds, epochs=100)\n",
        "model.save(\"hk.h5\")"
      ],
      "execution_count": null,
      "outputs": []
    },
    {
      "cell_type": "code",
      "metadata": {
        "id": "f1m9XzfEUUry"
      },
      "source": [
        "# check\n",
        "image = tf.io.read_file('plates/1W2013.jpg')\n",
        "image = tf.image.decode_jpeg(image, channels=3)\n",
        "image = tf.image.resize(image, [80, 240])\n",
        "image /= 255.0\n",
        "\n",
        "result = model.predict(np.array([image]))\n",
        "\n",
        "plate = ''\n",
        "for i in result:\n",
        "  idx = np.argmax(i)\n",
        "  plate += idx_char[idx]\n",
        "\n",
        "plt.imshow(image)  \n",
        "plt.show()\n",
        "print('车牌号 {}'.format(plate))"
      ],
      "execution_count": null,
      "outputs": []
    }
  ]
}